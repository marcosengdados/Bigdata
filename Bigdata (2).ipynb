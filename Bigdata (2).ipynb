{
  "nbformat": 4,
  "nbformat_minor": 0,
  "metadata": {
    "colab": {
      "provenance": []
    },
    "kernelspec": {
      "name": "python3",
      "display_name": "Python 3"
    },
    "language_info": {
      "name": "python"
    }
  },
  "cells": [
    {
      "cell_type": "code",
      "execution_count": 1,
      "metadata": {
        "id": "_XGXRyhaZOIz"
      },
      "outputs": [],
      "source": [
        "%%capture\n",
        "\n",
        "!wget -q https://archive.apache.org/dist/spark/spark-3.0.0/spark-3.0.0-bin-hadoop2.7.tgz\n",
        "\n",
        "!tar xf spark-3.0.0-bin-hadoop2.7.tgz && rm spark-3.0.0-bin-hadoop2.7.tgz"
      ]
    },
    {
      "cell_type": "code",
      "source": [
        "%%capture\n",
        "\n",
        "!apt-get remove openjdk*\n",
        "!apt-get update --fix-missing\n",
        "!apt-get install openjdk-8-jdk-headless -qq > /dev/null"
      ],
      "metadata": {
        "id": "x8kdnAGoZssc"
      },
      "execution_count": 2,
      "outputs": []
    },
    {
      "cell_type": "code",
      "source": [
        "!pip install -q pyspark==3.0.0"
      ],
      "metadata": {
        "id": "Vr6-3QduZ350",
        "colab": {
          "base_uri": "https://localhost:8080/"
        },
        "outputId": "0dfe53a7-a4aa-4871-9a15-188068a6ef80"
      },
      "execution_count": 3,
      "outputs": [
        {
          "output_type": "stream",
          "name": "stdout",
          "text": [
            "\u001b[2K     \u001b[90m━━━━━━━━━━━━━━━━━━━━━━━━━━━━━━━━━━━━━━━━\u001b[0m \u001b[32m204.7/204.7 MB\u001b[0m \u001b[31m5.8 MB/s\u001b[0m eta \u001b[36m0:00:00\u001b[0m\n",
            "\u001b[?25h  Preparing metadata (setup.py) ... \u001b[?25l\u001b[?25hdone\n",
            "\u001b[2K   \u001b[90m━━━━━━━━━━━━━━━━━━━━━━━━━━━━━━━━━━━━━━━━\u001b[0m \u001b[32m198.6/198.6 kB\u001b[0m \u001b[31m12.2 MB/s\u001b[0m eta \u001b[36m0:00:00\u001b[0m\n",
            "\u001b[?25h  Building wheel for pyspark (setup.py) ... \u001b[?25l\u001b[?25hdone\n"
          ]
        }
      ]
    },
    {
      "cell_type": "code",
      "source": [
        "!pip install py4j\n"
      ],
      "metadata": {
        "id": "N39u5x_XHLP_",
        "colab": {
          "base_uri": "https://localhost:8080/"
        },
        "outputId": "396951c9-c000-4e20-d2c4-33286b4a4162"
      },
      "execution_count": 4,
      "outputs": [
        {
          "output_type": "stream",
          "name": "stdout",
          "text": [
            "Requirement already satisfied: py4j in /usr/local/lib/python3.10/dist-packages (0.10.9)\n"
          ]
        }
      ]
    },
    {
      "cell_type": "code",
      "source": [
        "import os\n",
        "\n",
        "os.environ[\"JAVA_HOME\"] = \"/usr/lib/jvm/java-8-openjdk-amd64\"\n",
        "os.environ[\"SPARK_HOME\"] = \"/content/spark-3.0.0-bin-hadoop2.7\""
      ],
      "metadata": {
        "id": "CSmPjXFjZ-RL"
      },
      "execution_count": 5,
      "outputs": []
    },
    {
      "cell_type": "code",
      "source": [
        "!pip install -q findspark==1.4.2"
      ],
      "metadata": {
        "id": "9klYW_I5aGFx"
      },
      "execution_count": 6,
      "outputs": []
    },
    {
      "cell_type": "code",
      "source": [
        "import findspark\n",
        "\n",
        "findspark.init()\n"
      ],
      "metadata": {
        "id": "7gXbxPTIDqog"
      },
      "execution_count": 7,
      "outputs": []
    },
    {
      "cell_type": "code",
      "source": [
        "from pyspark.sql import SparkSession\n",
        "\n",
        "spark = SparkSession.builder.master(\"local[*]\").appName(\"pyspark-notebook\").getOrCreate()"
      ],
      "metadata": {
        "id": "kz1MfHv4XgnI"
      },
      "execution_count": 9,
      "outputs": []
    },
    {
      "cell_type": "code",
      "source": [
        "# Comando para baixar o arquivo CSV\n",
        "!wget -q \"https://raw.githubusercontent.com/cluster-apps-on-docker/spark-standalone-cluster-on-docker/master/build/workspace/data/uk-macroeconomic-data.csv\" -O \"uk-macroeconomic-data.csv\"\n"
      ],
      "metadata": {
        "id": "06lYVzzvX05G"
      },
      "execution_count": 16,
      "outputs": []
    },
    {
      "cell_type": "code",
      "source": [
        "data = spark.read.csv(path=\"uk-macroeconomic-data.csv\", sep=\",\", header=True)"
      ],
      "metadata": {
        "id": "KD4Z8zgDX-8t"
      },
      "execution_count": 17,
      "outputs": []
    },
    {
      "cell_type": "code",
      "source": [
        "data.show()"
      ],
      "metadata": {
        "colab": {
          "base_uri": "https://localhost:8080/"
        },
        "id": "xc5DFJItaBJX",
        "outputId": "9a700292-1509-493b-dbd4-091baef13a1b"
      },
      "execution_count": 18,
      "outputs": [
        {
          "output_type": "stream",
          "name": "stdout",
          "text": [
            "+-----------+------------------------------------+-----------------------------------+-------------------------------------------------------------------------------------------+-----------------------------------------------------------------------------------------+------------------------------------------------------------------------------+----------------------------------------------------------------------------------------+-------------------------------------------------------------------------------------+-----------------------------------------------------------------------------------+--------------------+--------------------+--------------------------+-------------------------------------------------+--------------------+--------------------+---------------------------------------+-------------------------------+---------------------------------+------------------+--------------------+----------+-----------------+---------------------------+-------------------------------+----------+--------------------+---------------------+-------------------------------------------+-----------------------------+-------------+-------------+--------------+------------+--------------------+--------------------+------------------------+----------------------+------------------------------+------------+--------------------+------------------------------------------+------------------------------------------+--------------------+-----------------------------------+---------------------+--------------------+--------------------+----------------------+--------------------+--------------------+--------------------+-------------+--------------+-----------------------------+-------------------------------+-----------------------------------------------+-----------------------------+-------------+-------------+-------------+---------------------------------------+-----------------------------------------+----------------------------+------------------------------+-----------------------------------------+-------------------------------------------+---------------------+-----------------------+-----------------------+-----------------------------+-------------------------------+-------------+--------------------+----------------+--------------------+----------------------------------------------------------------------+------------------------------------------------------------------------+\n",
            "|Description|Real GDP of England at market prices|Real GDP of England at factor cost |Real UK GDP at market prices, geographically-consistent estimate based on post-1922 borders|Real UK GDP at factor cost, geographically-consistent estimate based on post-1922 borders|Index of real UK GDP at factor cost - based on changing political boundaries, |Composite estimate of English and (geographically-consistent) UK real GDP at factor cost|HP-filter of log of real composite estimate of English and UK real GDP at factor cost|Real UK gross disposable national income at market prices, constant border estimate|    Real consumption|     Real investment|Stockbuilding contribution|Real government consumption of goods and services|      Export volumes|      Import volumes|Nominal GDP of England at market prices|Nominal UK GDP at market prices|Nominal UK GDP at market prices.1|Population (GB+NI)|Population (England)|Employment|Unemployment rate|Average weekly hours worked|Capital Services, whole economy|TFP growth| Labour productivity|Labour productivity.1|Labour share, whole economy excluding rents|GDP deflator at market prices|Export prices|Import prices|Terms of Trade|$ Oil prices|   Earnings per head|Consumer price index|Consumer price inflation|Real consumption wages|Wholesale/producer price index|   Bank Rate|         Bank Rate.1|10 year/medium-term government bond yields|Consols / long-term government bond yields|      Mortgage rates|Corporate borrowing rate from banks|Corporate bond yields|        Share prices|   $/£ exchange rate|Real $/£ exchange rate|         Nominal ERI|            Real ERI|   House price index|      Credit |Secured credit|Bank of England Balance sheet|Bank of England Balance sheet.1|Coin in circulation outside the Bank of England|Notes and coin in circulation|Monetary base|           M1| Broad Money |Public sector Total Managed Expenditure|Public sector Total Managed Expenditure.1|Public Sector Total Receipts|Public Sector Total Receipts.1|Public Sector Net Lending(+)/Borrowing(-)|Public Sector Net Lending(+)/Borrowing(-).1|UK Public sector debt|UK Public sector debt.1|UK Public sector debt.2|Central Government Gross Debt|Central Government Gross Debt.1|Trade deficit|     Trade deficit.1|Current account |  Current account .1|Current account deficit including estimated non-monetary bullion flows|Current account deficit including estimated non-monetary bullion flows.1|\n",
            "+-----------+------------------------------------+-----------------------------------+-------------------------------------------------------------------------------------------+-----------------------------------------------------------------------------------------+------------------------------------------------------------------------------+----------------------------------------------------------------------------------------+-------------------------------------------------------------------------------------+-----------------------------------------------------------------------------------+--------------------+--------------------+--------------------------+-------------------------------------------------+--------------------+--------------------+---------------------------------------+-------------------------------+---------------------------------+------------------+--------------------+----------+-----------------+---------------------------+-------------------------------+----------+--------------------+---------------------+-------------------------------------------+-----------------------------+-------------+-------------+--------------+------------+--------------------+--------------------+------------------------+----------------------+------------------------------+------------+--------------------+------------------------------------------+------------------------------------------+--------------------+-----------------------------------+---------------------+--------------------+--------------------+----------------------+--------------------+--------------------+--------------------+-------------+--------------+-----------------------------+-------------------------------+-----------------------------------------------+-----------------------------+-------------+-------------+-------------+---------------------------------------+-----------------------------------------+----------------------------+------------------------------+-----------------------------------------+-------------------------------------------+---------------------+-----------------------+-----------------------+-----------------------------+-------------------------------+-------------+--------------------+----------------+--------------------+----------------------------------------------------------------------+------------------------------------------------------------------------+\n",
            "|      Units|                £mn, Chained Volu...|               £mn, Chained Volu...|                                                                       £mn, Chained Volu...|                                                                     £mn, Chained Volu...|                                                          GB before 1801, G...|                                                                                2013=100|                                                                 approx. % differe...|                                                               £mn, Chained Volu...|£mn, Chained Volu...|£mn, Chained Volu...|      pp contribution t...|                             £mn, Chained Volu...|£mn, Chained Volu...|£mn, Chained Volu...|                                    £mn|                            £mn|                              £mn|              000s|                000s|      000s|                %|                      hours|               £mn, 2013 prices|         %|Real GDP per head...| Real GDP per hour...|                       share of GDP excl...|                     2013=100|     2013=100|     2013=100|      2013=100|$ per barrel|Average weekly ea...|            2015=100|                       %|              1900=100|                      2010=100|% end period|%, calendar year ...|                      %, calendar year ...|                      %, calendar year ...|%, calendar year ...|               %, calendar year ...| %, calendar year ...|April 1962=100, Y...|Calendar year ave...|  Calendar year ave...|Calendar year ave...|Calendar year ave...|Calendar year ave...|Year end, £mn| Year end, £mn|             % of nominal GDP|               % of nominal GDP|                                  Year end, £mn|                Year end, £mn|Year end, £mn|Year end, £mn|Year end, £mn|                   Calendar year tot...|                     as a % of nominal...|        Calendar year tot...|          as a % of nominal...|                     Calendar year tot...|                       as a % of nominal...| Calendar Year end...|   as a % of nominal...|   as a % of nominal...|         Financial year en...|           Financial year en...|          £mn|as a % of nominal...|             £mn|as a % of nominal...|                                                                   £mn|                                                    as a % of nominal...|\n",
            "|       1209|                                null|                               null|                                                                                       null|                                                                                     null|                                                                          null|                                                                                    null|                                                                                 null|                                                                               null|                null|                null|                      null|                                             null|                null|                null|                                   null|                           null|                             null|              null|                3626|      null|             null|                       null|                           null|      null|                null|                 null|                                       null|                         null|         null|         null|          null|        null|               0.034|                0.08|                    null|                 51.79|                          null|        null|                null|                                      null|                                      null|                null|                               null|                 null|                null|                null|                  null|                null|                null|                null|         null|          null|                         null|                           null|                                           null|                         null|         null|         null|         null|                                   null|                                     null|                        null|                          null|                                     null|                                       null|                 null|                   null|                   null|                         null|                           null|         null|                null|            null|                null|                                                                  null|                                                                    null|\n",
            "|       1210|                                null|                               null|                                                                                       null|                                                                                     null|                                                                          null|                                                                                    null|                                                                                 null|                                                                               null|                null|                null|                      null|                                             null|                null|                null|                                   null|                           null|                             null|              null|                3656|      null|             null|                       null|                           null|      null|                null|                 null|                                       null|                         null|         null|         null|          null|        null|               0.030|                0.08|                    2.58|                 44.65|                          null|        null|                null|                                      null|                                      null|                null|                               null|                 null|                null|                null|                  null|                null|                null|                null|         null|          null|                         null|                           null|                                           null|                         null|         null|         null|         null|                                   null|                                     null|                        null|                          null|                                     null|                                       null|                 null|                   null|                   null|                         null|                           null|         null|                null|            null|                null|                                                                  null|                                                                    null|\n",
            "|       1211|                                null|                               null|                                                                                       null|                                                                                     null|                                                                          null|                                                                                    null|                                                                                 null|                                                                               null|                null|                null|                      null|                                             null|                null|                null|                                   null|                           null|                             null|              null|                3686|      null|             null|                       null|                           null|      null|                null|                 null|                                       null|                         null|         null|         null|          null|        null|               0.026|                0.09|                   12.22|                 34.86|                          null|        null|                null|                                      null|                                      null|                null|                               null|                 null|                null|                null|                  null|                null|                null|                null|         null|          null|                         null|                           null|                                           null|                         null|         null|         null|         null|                                   null|                                     null|                        null|                          null|                                     null|                                       null|                 null|                   null|                   null|                         null|                           null|         null|                null|            null|                null|                                                                  null|                                                                    null|\n",
            "|       1212|                                null|                               null|                                                                                       null|                                                                                     null|                                                                          null|                                                                                    null|                                                                                 null|                                                                               null|                null|                null|                      null|                                             null|                null|                null|                                   null|                           null|                             null|              null|                3717|      null|             null|                       null|                           null|      null|                null|                 null|                                       null|                         null|         null|         null|          null|        null|               0.033|                0.08|                  -12.32|                 49.35|                          null|        null|                null|                                      null|                                      null|                null|                               null|                 null|                null|                null|                  null|                null|                null|                null|         null|          null|                         null|                           null|                                           null|                         null|         null|         null|         null|                                   null|                                     null|                        null|                          null|                                     null|                                       null|                 null|                   null|                   null|                         null|                           null|         null|                null|            null|                null|                                                                  null|                                                                    null|\n",
            "|       1213|                                null|                               null|                                                                                       null|                                                                                     null|                                                                          null|                                                                                    null|                                                                                 null|                                                                               null|                null|                null|                      null|                                             null|                null|                null|                                   null|                           null|                             null|              null|                3747|      null|             null|                       null|                           null|      null|                null|                 null|                                       null|                         null|         null|         null|          null|        null|               0.037|                0.08|                   -3.37|                 57.28|                          null|        null|                null|                                      null|                                      null|                null|                               null|                 null|                null|                null|                  null|                null|                null|                null|         null|          null|                         null|                           null|                                           null|                         null|         null|         null|         null|                                   null|                                     null|                        null|                          null|                                     null|                                       null|                 null|                   null|                   null|                         null|                           null|         null|                null|            null|                null|                                                                  null|                                                                    null|\n",
            "|       1214|                                null|                               null|                                                                                       null|                                                                                     null|                                                                          null|                                                                                    null|                                                                                 null|                                                                               null|                null|                null|                      null|                                             null|                null|                null|                                   null|                           null|                             null|              null|                3778|      null|             null|                       null|                           null|      null|                null|                 null|                                       null|                         null|         null|         null|          null|        null|               0.041|                0.08|                   -3.37|                 66.49|                          null|        null|                null|                                      null|                                      null|                null|                               null|                 null|                null|                null|                  null|                null|                null|                null|         null|          null|                         null|                           null|                                           null|                         null|         null|         null|         null|                                   null|                                     null|                        null|                          null|                                     null|                                       null|                 null|                   null|                   null|                         null|                           null|         null|                null|            null|                null|                                                                  null|                                                                    null|\n",
            "|       1215|                                null|                               null|                                                                                       null|                                                                                     null|                                                                          null|                                                                                    null|                                                                                 null|                                                                               null|                null|                null|                      null|                                             null|                null|                null|                                   null|                           null|                             null|              null|                3810|      null|             null|                       null|                           null|      null|                null|                 null|                                       null|                         null|         null|         null|          null|        null|               0.038|                0.08|                    6.34|                 57.33|                          null|        null|                null|                                      null|                                      null|                null|                               null|                 null|                null|                null|                  null|                null|                null|                null|         null|          null|                         null|                           null|                                           null|                         null|         null|         null|         null|                                   null|                                     null|                        null|                          null|                                     null|                                       null|                 null|                   null|                   null|                         null|                           null|         null|                null|            null|                null|                                                                  null|                                                                    null|\n",
            "|       1216|                                null|                               null|                                                                                       null|                                                                                     null|                                                                          null|                                                                                    null|                                                                                 null|                                                                               null|                null|                null|                      null|                                             null|                null|                null|                                   null|                           null|                             null|              null|                3841|      null|             null|                       null|                           null|      null|                null|                 null|                                       null|                         null|         null|         null|          null|        null|               0.035|                0.09|                    6.34|                 49.44|                          null|        null|                null|                                      null|                                      null|                null|                               null|                 null|                null|                null|                  null|                null|                null|                null|         null|          null|                         null|                           null|                                           null|                         null|         null|         null|         null|                                   null|                                     null|                        null|                          null|                                     null|                                       null|                 null|                   null|                   null|                         null|                           null|         null|                null|            null|                null|                                                                  null|                                                                    null|\n",
            "|       1217|                                null|                               null|                                                                                       null|                                                                                     null|                                                                          null|                                                                                    null|                                                                                 null|                                                                               null|                null|                null|                      null|                                             null|                null|                null|                                   null|                           null|                             null|              null|                3873|      null|             null|                       null|                           null|      null|                null|                 null|                                       null|                         null|         null|         null|          null|        null|               0.034|                0.10|                   15.78|                 41.18|                          null|        null|                null|                                      null|                                      null|                null|                               null|                 null|                null|                null|                  null|                null|                null|                null|         null|          null|                         null|                           null|                                           null|                         null|         null|         null|         null|                                   null|                                     null|                        null|                          null|                                     null|                                       null|                 null|                   null|                   null|                         null|                           null|         null|                null|            null|                null|                                                                  null|                                                                    null|\n",
            "|       1218|                                null|                               null|                                                                                       null|                                                                                     null|                                                                          null|                                                                                    null|                                                                                 null|                                                                               null|                null|                null|                      null|                                             null|                null|                null|                                   null|                           null|                             null|              null|                3905|      null|             null|                       null|                           null|      null|                null|                 null|                                       null|                         null|         null|         null|          null|        null|               0.029|                0.12|                   16.62|                 30.69|                          null|        null|                null|                                      null|                                      null|                null|                               null|                 null|                null|                null|                  null|                null|                null|                null|         null|          null|                         null|                           null|                                           null|                         null|         null|         null|         null|                                   null|                                     null|                        null|                          null|                                     null|                                       null|                 null|                   null|                   null|                         null|                           null|         null|                null|            null|                null|                                                                  null|                                                                    null|\n",
            "|       1219|                                null|                               null|                                                                                       null|                                                                                     null|                                                                          null|                                                                                    null|                                                                                 null|                                                                               null|                null|                null|                      null|                                             null|                null|                null|                                   null|                           null|                             null|              null|                3937|      null|             null|                       null|                           null|      null|                null|                 null|                                       null|                         null|         null|         null|          null|        null|               0.036|                0.11|                   -3.13|                 39.33|                          null|        null|                null|                                      null|                                      null|                null|                               null|                 null|                null|                null|                  null|                null|                null|                null|         null|          null|                         null|                           null|                                           null|                         null|         null|         null|         null|                                   null|                                     null|                        null|                          null|                                     null|                                       null|                 null|                   null|                   null|                         null|                           null|         null|                null|            null|                null|                                                                  null|                                                                    null|\n",
            "|       1220|                                null|                               null|                                                                                       null|                                                                                     null|                                                                          null|                                                                                    null|                                                                                 null|                                                                               null|                null|                null|                      null|                                             null|                null|                null|                                   null|                           null|                             null|              null|                3970|      null|             null|                       null|                           null|      null|                null|                 null|                                       null|                         null|         null|         null|          null|        null|               0.029|                0.10|                  -12.67|                 36.28|                          null|        null|                null|                                      null|                                      null|                null|                               null|                 null|                null|                null|                  null|                null|                null|                null|         null|          null|                         null|                           null|                                           null|                         null|         null|         null|         null|                                   null|                                     null|                        null|                          null|                                     null|                                       null|                 null|                   null|                   null|                         null|                           null|         null|                null|            null|                null|                                                                  null|                                                                    null|\n",
            "|       1221|                                null|                               null|                                                                                       null|                                                                                     null|                                                                          null|                                                                                    null|                                                                                 null|                                                                               null|                null|                null|                      null|                                             null|                null|                null|                                   null|                           null|                             null|              null|                3978|      null|             null|                       null|                           null|      null|                null|                 null|                                       null|                         null|         null|         null|          null|        null|               0.030|                0.11|                   11.96|                 33.73|                          null|        null|                null|                                      null|                                      null|                null|                               null|                 null|                null|                null|                  null|                null|                null|                null|         null|          null|                         null|                           null|                                           null|                         null|         null|         null|         null|                                   null|                                     null|                        null|                          null|                                     null|                                       null|                 null|                   null|                   null|                         null|                           null|         null|                null|            null|                null|                                                                  null|                                                                    null|\n",
            "|       1222|                                null|                               null|                                                                                       null|                                                                                     null|                                                                          null|                                                                                    null|                                                                                 null|                                                                               null|                null|                null|                      null|                                             null|                null|                null|                                   null|                           null|                             null|              null|                3987|      null|             null|                       null|                           null|      null|                null|                 null|                                       null|                         null|         null|         null|          null|        null|               0.033|                0.09|                  -15.56|                 43.05|                          null|        null|                null|                                      null|                                      null|                null|                               null|                 null|                null|                null|                  null|                null|                null|                null|         null|          null|                         null|                           null|                                           null|                         null|         null|         null|         null|                                   null|                                     null|                        null|                          null|                                     null|                                       null|                 null|                   null|                   null|                         null|                           null|         null|                null|            null|                null|                                                                  null|                                                                    null|\n",
            "|       1223|                                null|                               null|                                                                                       null|                                                                                     null|                                                                          null|                                                                                    null|                                                                                 null|                                                                               null|                null|                null|                      null|                                             null|                null|                null|                                   null|                           null|                             null|              null|                3995|      null|             null|                       null|                           null|      null|                null|                 null|                                       null|                         null|         null|         null|          null|        null|               0.035|                0.08|                  -15.56|                 54.95|                          null|        null|                null|                                      null|                                      null|                null|                               null|                 null|                null|                null|                  null|                null|                null|                null|         null|          null|                         null|                           null|                                           null|                         null|         null|         null|         null|                                   null|                                     null|                        null|                          null|                                     null|                                       null|                 null|                   null|                   null|                         null|                           null|         null|                null|            null|                null|                                                                  null|                                                                    null|\n",
            "|       1224|                                null|                               null|                                                                                       null|                                                                                     null|                                                                          null|                                                                                    null|                                                                                 null|                                                                               null|                null|                null|                      null|                                             null|                null|                null|                                   null|                           null|                             null|              null|                4004|      null|             null|                       null|                           null|      null|                null|                 null|                                       null|                         null|         null|         null|          null|        null|               0.036|                0.09|                   10.33|                 50.33|                          null|        null|                null|                                      null|                                      null|                null|                               null|                 null|                null|                null|                  null|                null|                null|                null|         null|          null|                         null|                           null|                                           null|                         null|         null|         null|         null|                                   null|                                     null|                        null|                          null|                                     null|                                       null|                 null|                   null|                   null|                         null|                           null|         null|                null|            null|                null|                                                                  null|                                                                    null|\n",
            "|       1225|                                null|                               null|                                                                                       null|                                                                                     null|                                                                          null|                                                                                    null|                                                                                 null|                                                                               null|                null|                null|                      null|                                             null|                null|                null|                                   null|                           null|                             null|              null|                4012|      null|             null|                       null|                           null|      null|                null|                 null|                                       null|                         null|         null|         null|          null|        null|               0.032|                0.13|                   49.66|                 30.29|                          null|        null|                null|                                      null|                                      null|                null|                               null|                 null|                null|                null|                  null|                null|                null|                null|         null|          null|                         null|                           null|                                           null|                         null|         null|         null|         null|                                   null|                                     null|                        null|                          null|                                     null|                                       null|                 null|                   null|                   null|                         null|                           null|         null|                null|            null|                null|                                                                  null|                                                                    null|\n",
            "|       1226|                                null|                               null|                                                                                       null|                                                                                     null|                                                                          null|                                                                                    null|                                                                                 null|                                                                               null|                null|                null|                      null|                                             null|                null|                null|                                   null|                           null|                             null|              null|                4021|      null|             null|                       null|                           null|      null|                null|                 null|                                       null|                         null|         null|         null|          null|        null|               0.032|                0.12|                   -9.56|                 33.48|                          null|        null|                null|                                      null|                                      null|                null|                               null|                 null|                null|                null|                  null|                null|                null|                null|         null|          null|                         null|                           null|                                           null|                         null|         null|         null|         null|                                   null|                                     null|                        null|                          null|                                     null|                                       null|                 null|                   null|                   null|                         null|                           null|         null|                null|            null|                null|                                                                  null|                                                                    null|\n",
            "|       1227|                                null|                               null|                                                                                       null|                                                                                     null|                                                                          null|                                                                                    null|                                                                                 null|                                                                               null|                null|                null|                      null|                                             null|                null|                null|                                   null|                           null|                             null|              null|                4029|      null|             null|                       null|                           null|      null|                null|                 null|                                       null|                         null|         null|         null|          null|        null|               0.029|                0.12|                    0.01|                 29.86|                          null|        null|                null|                                      null|                                      null|                null|                               null|                 null|                null|                null|                  null|                null|                null|                null|         null|          null|                         null|                           null|                                           null|                         null|         null|         null|         null|                                   null|                                     null|                        null|                          null|                                     null|                                       null|                 null|                   null|                   null|                         null|                           null|         null|                null|            null|                null|                                                                  null|                                                                    null|\n",
            "+-----------+------------------------------------+-----------------------------------+-------------------------------------------------------------------------------------------+-----------------------------------------------------------------------------------------+------------------------------------------------------------------------------+----------------------------------------------------------------------------------------+-------------------------------------------------------------------------------------+-----------------------------------------------------------------------------------+--------------------+--------------------+--------------------------+-------------------------------------------------+--------------------+--------------------+---------------------------------------+-------------------------------+---------------------------------+------------------+--------------------+----------+-----------------+---------------------------+-------------------------------+----------+--------------------+---------------------+-------------------------------------------+-----------------------------+-------------+-------------+--------------+------------+--------------------+--------------------+------------------------+----------------------+------------------------------+------------+--------------------+------------------------------------------+------------------------------------------+--------------------+-----------------------------------+---------------------+--------------------+--------------------+----------------------+--------------------+--------------------+--------------------+-------------+--------------+-----------------------------+-------------------------------+-----------------------------------------------+-----------------------------+-------------+-------------+-------------+---------------------------------------+-----------------------------------------+----------------------------+------------------------------+-----------------------------------------+-------------------------------------------+---------------------+-----------------------+-----------------------+-----------------------------+-------------------------------+-------------+--------------------+----------------+--------------------+----------------------------------------------------------------------+------------------------------------------------------------------------+\n",
            "only showing top 20 rows\n",
            "\n"
          ]
        }
      ]
    },
    {
      "cell_type": "code",
      "source": [
        "data.printSchema()"
      ],
      "metadata": {
        "colab": {
          "base_uri": "https://localhost:8080/"
        },
        "id": "CoKVO6PaaGb7",
        "outputId": "f7842b6e-6aef-4bde-af22-19a88b87bf59"
      },
      "execution_count": 19,
      "outputs": [
        {
          "output_type": "stream",
          "name": "stdout",
          "text": [
            "root\n",
            " |-- Description: string (nullable = true)\n",
            " |-- Real GDP of England at market prices: string (nullable = true)\n",
            " |-- Real GDP of England at factor cost : string (nullable = true)\n",
            " |-- Real UK GDP at market prices, geographically-consistent estimate based on post-1922 borders: string (nullable = true)\n",
            " |-- Real UK GDP at factor cost, geographically-consistent estimate based on post-1922 borders: string (nullable = true)\n",
            " |-- Index of real UK GDP at factor cost - based on changing political boundaries, : string (nullable = true)\n",
            " |-- Composite estimate of English and (geographically-consistent) UK real GDP at factor cost: string (nullable = true)\n",
            " |-- HP-filter of log of real composite estimate of English and UK real GDP at factor cost: string (nullable = true)\n",
            " |-- Real UK gross disposable national income at market prices, constant border estimate: string (nullable = true)\n",
            " |-- Real consumption: string (nullable = true)\n",
            " |-- Real investment: string (nullable = true)\n",
            " |-- Stockbuilding contribution: string (nullable = true)\n",
            " |-- Real government consumption of goods and services: string (nullable = true)\n",
            " |-- Export volumes: string (nullable = true)\n",
            " |-- Import volumes: string (nullable = true)\n",
            " |-- Nominal GDP of England at market prices: string (nullable = true)\n",
            " |-- Nominal UK GDP at market prices: string (nullable = true)\n",
            " |-- Nominal UK GDP at market prices.1: string (nullable = true)\n",
            " |-- Population (GB+NI): string (nullable = true)\n",
            " |-- Population (England): string (nullable = true)\n",
            " |-- Employment: string (nullable = true)\n",
            " |-- Unemployment rate: string (nullable = true)\n",
            " |-- Average weekly hours worked: string (nullable = true)\n",
            " |-- Capital Services, whole economy: string (nullable = true)\n",
            " |-- TFP growth: string (nullable = true)\n",
            " |-- Labour productivity: string (nullable = true)\n",
            " |-- Labour productivity.1: string (nullable = true)\n",
            " |-- Labour share, whole economy excluding rents: string (nullable = true)\n",
            " |-- GDP deflator at market prices: string (nullable = true)\n",
            " |-- Export prices: string (nullable = true)\n",
            " |-- Import prices: string (nullable = true)\n",
            " |-- Terms of Trade: string (nullable = true)\n",
            " |-- $ Oil prices: string (nullable = true)\n",
            " |-- Earnings per head: string (nullable = true)\n",
            " |-- Consumer price index: string (nullable = true)\n",
            " |-- Consumer price inflation: string (nullable = true)\n",
            " |-- Real consumption wages: string (nullable = true)\n",
            " |-- Wholesale/producer price index: string (nullable = true)\n",
            " |-- Bank Rate: string (nullable = true)\n",
            " |-- Bank Rate.1: string (nullable = true)\n",
            " |-- 10 year/medium-term government bond yields: string (nullable = true)\n",
            " |-- Consols / long-term government bond yields: string (nullable = true)\n",
            " |-- Mortgage rates: string (nullable = true)\n",
            " |-- Corporate borrowing rate from banks: string (nullable = true)\n",
            " |-- Corporate bond yields: string (nullable = true)\n",
            " |-- Share prices: string (nullable = true)\n",
            " |-- $/£ exchange rate: string (nullable = true)\n",
            " |-- Real $/£ exchange rate: string (nullable = true)\n",
            " |-- Nominal ERI: string (nullable = true)\n",
            " |-- Real ERI: string (nullable = true)\n",
            " |-- House price index: string (nullable = true)\n",
            " |-- Credit : string (nullable = true)\n",
            " |-- Secured credit: string (nullable = true)\n",
            " |-- Bank of England Balance sheet: string (nullable = true)\n",
            " |-- Bank of England Balance sheet.1: string (nullable = true)\n",
            " |-- Coin in circulation outside the Bank of England: string (nullable = true)\n",
            " |-- Notes and coin in circulation: string (nullable = true)\n",
            " |-- Monetary base: string (nullable = true)\n",
            " |-- M1: string (nullable = true)\n",
            " |-- Broad Money : string (nullable = true)\n",
            " |-- Public sector Total Managed Expenditure: string (nullable = true)\n",
            " |-- Public sector Total Managed Expenditure.1: string (nullable = true)\n",
            " |-- Public Sector Total Receipts: string (nullable = true)\n",
            " |-- Public Sector Total Receipts.1: string (nullable = true)\n",
            " |-- Public Sector Net Lending(+)/Borrowing(-): string (nullable = true)\n",
            " |-- Public Sector Net Lending(+)/Borrowing(-).1: string (nullable = true)\n",
            " |-- UK Public sector debt: string (nullable = true)\n",
            " |-- UK Public sector debt.1: string (nullable = true)\n",
            " |-- UK Public sector debt.2: string (nullable = true)\n",
            " |-- Central Government Gross Debt: string (nullable = true)\n",
            " |-- Central Government Gross Debt.1: string (nullable = true)\n",
            " |-- Trade deficit: string (nullable = true)\n",
            " |-- Trade deficit.1: string (nullable = true)\n",
            " |-- Current account : string (nullable = true)\n",
            " |-- Current account .1: string (nullable = true)\n",
            " |-- Current account deficit including estimated non-monetary bullion flows: string (nullable = true)\n",
            " |-- Current account deficit including estimated non-monetary bullion flows.1: string (nullable = true)\n",
            "\n"
          ]
        }
      ]
    },
    {
      "cell_type": "markdown",
      "source": [
        "- Data Wrangling"
      ],
      "metadata": {
        "id": "hIPyZFGeaX2a"
      }
    },
    {
      "cell_type": "code",
      "source": [
        "data.count()"
      ],
      "metadata": {
        "colab": {
          "base_uri": "https://localhost:8080/"
        },
        "id": "fHDqrQoSaehu",
        "outputId": "7bc860b0-9e24-4068-bfa7-8d2428a280a1"
      },
      "execution_count": 20,
      "outputs": [
        {
          "output_type": "execute_result",
          "data": {
            "text/plain": [
              "841"
            ]
          },
          "metadata": {},
          "execution_count": 20
        }
      ]
    },
    {
      "cell_type": "code",
      "source": [
        "data.columns"
      ],
      "metadata": {
        "colab": {
          "base_uri": "https://localhost:8080/"
        },
        "id": "q-dthlpdbp__",
        "outputId": "31d28237-0984-4cc8-bf96-9086a7538334"
      },
      "execution_count": 21,
      "outputs": [
        {
          "output_type": "execute_result",
          "data": {
            "text/plain": [
              "['Description',\n",
              " 'Real GDP of England at market prices',\n",
              " 'Real GDP of England at factor cost ',\n",
              " 'Real UK GDP at market prices, geographically-consistent estimate based on post-1922 borders',\n",
              " 'Real UK GDP at factor cost, geographically-consistent estimate based on post-1922 borders',\n",
              " 'Index of real UK GDP at factor cost - based on changing political boundaries, ',\n",
              " 'Composite estimate of English and (geographically-consistent) UK real GDP at factor cost',\n",
              " 'HP-filter of log of real composite estimate of English and UK real GDP at factor cost',\n",
              " 'Real UK gross disposable national income at market prices, constant border estimate',\n",
              " 'Real consumption',\n",
              " 'Real investment',\n",
              " 'Stockbuilding contribution',\n",
              " 'Real government consumption of goods and services',\n",
              " 'Export volumes',\n",
              " 'Import volumes',\n",
              " 'Nominal GDP of England at market prices',\n",
              " 'Nominal UK GDP at market prices',\n",
              " 'Nominal UK GDP at market prices.1',\n",
              " 'Population (GB+NI)',\n",
              " 'Population (England)',\n",
              " 'Employment',\n",
              " 'Unemployment rate',\n",
              " 'Average weekly hours worked',\n",
              " 'Capital Services, whole economy',\n",
              " 'TFP growth',\n",
              " 'Labour productivity',\n",
              " 'Labour productivity.1',\n",
              " 'Labour share, whole economy excluding rents',\n",
              " 'GDP deflator at market prices',\n",
              " 'Export prices',\n",
              " 'Import prices',\n",
              " 'Terms of Trade',\n",
              " '$ Oil prices',\n",
              " 'Earnings per head',\n",
              " 'Consumer price index',\n",
              " 'Consumer price inflation',\n",
              " 'Real consumption wages',\n",
              " 'Wholesale/producer price index',\n",
              " 'Bank Rate',\n",
              " 'Bank Rate.1',\n",
              " '10 year/medium-term government bond yields',\n",
              " 'Consols / long-term government bond yields',\n",
              " 'Mortgage rates',\n",
              " 'Corporate borrowing rate from banks',\n",
              " 'Corporate bond yields',\n",
              " 'Share prices',\n",
              " '$/£ exchange rate',\n",
              " 'Real $/£ exchange rate',\n",
              " 'Nominal ERI',\n",
              " 'Real ERI',\n",
              " 'House price index',\n",
              " 'Credit ',\n",
              " 'Secured credit',\n",
              " 'Bank of England Balance sheet',\n",
              " 'Bank of England Balance sheet.1',\n",
              " 'Coin in circulation outside the Bank of England',\n",
              " 'Notes and coin in circulation',\n",
              " 'Monetary base',\n",
              " 'M1',\n",
              " 'Broad Money ',\n",
              " 'Public sector Total Managed Expenditure',\n",
              " 'Public sector Total Managed Expenditure.1',\n",
              " 'Public Sector Total Receipts',\n",
              " 'Public Sector Total Receipts.1',\n",
              " 'Public Sector Net Lending(+)/Borrowing(-)',\n",
              " 'Public Sector Net Lending(+)/Borrowing(-).1',\n",
              " 'UK Public sector debt',\n",
              " 'UK Public sector debt.1',\n",
              " 'UK Public sector debt.2',\n",
              " 'Central Government Gross Debt',\n",
              " 'Central Government Gross Debt.1',\n",
              " 'Trade deficit',\n",
              " 'Trade deficit.1',\n",
              " 'Current account ',\n",
              " 'Current account .1',\n",
              " 'Current account deficit including estimated non-monetary bullion flows',\n",
              " 'Current account deficit including estimated non-monetary bullion flows.1']"
            ]
          },
          "metadata": {},
          "execution_count": 21
        }
      ]
    },
    {
      "cell_type": "code",
      "source": [
        "len(data.columns)"
      ],
      "metadata": {
        "colab": {
          "base_uri": "https://localhost:8080/"
        },
        "id": "0PRCKbanbst_",
        "outputId": "5f6b306d-43bc-42d3-dcc3-ec72fbd8be0e"
      },
      "execution_count": 22,
      "outputs": [
        {
          "output_type": "execute_result",
          "data": {
            "text/plain": [
              "77"
            ]
          },
          "metadata": {},
          "execution_count": 22
        }
      ]
    },
    {
      "cell_type": "code",
      "source": [
        "data = data.select([ \"Description\", \"Population (GB+NI)\", \"Unemployment rate\" ])"
      ],
      "metadata": {
        "id": "9BO_xFlbcnS1"
      },
      "execution_count": 23,
      "outputs": []
    },
    {
      "cell_type": "code",
      "source": [
        "data = data.withColumnRenamed(\"Description\", 'year').withColumnRenamed(\"Population (GB+NI)\", \"population\").withColumnRenamed(\"Unemployment rate\", \"unemployment_rate\")"
      ],
      "metadata": {
        "id": "a1VrXfB3cuZl"
      },
      "execution_count": 28,
      "outputs": []
    },
    {
      "cell_type": "code",
      "source": [
        "data.show(n=10)"
      ],
      "metadata": {
        "colab": {
          "base_uri": "https://localhost:8080/"
        },
        "id": "AAWiB6LGc9-P",
        "outputId": "29cac9e0-b15d-4d57-b256-ed14400d8f48"
      },
      "execution_count": 29,
      "outputs": [
        {
          "output_type": "stream",
          "name": "stdout",
          "text": [
            "+-----+----------+-----------------+\n",
            "| year|population|unemployment_rate|\n",
            "+-----+----------+-----------------+\n",
            "|Units|      000s|                %|\n",
            "| 1209|      null|             null|\n",
            "| 1210|      null|             null|\n",
            "| 1211|      null|             null|\n",
            "| 1212|      null|             null|\n",
            "| 1213|      null|             null|\n",
            "| 1214|      null|             null|\n",
            "| 1215|      null|             null|\n",
            "| 1216|      null|             null|\n",
            "| 1217|      null|             null|\n",
            "+-----+----------+-----------------+\n",
            "only showing top 10 rows\n",
            "\n"
          ]
        }
      ]
    },
    {
      "cell_type": "code",
      "source": [
        "data_description = data.filter(data['year'] == 'Units')"
      ],
      "metadata": {
        "id": "_L2PeAC4dqW3"
      },
      "execution_count": 30,
      "outputs": []
    },
    {
      "cell_type": "code",
      "source": [
        "data_description.show(n=10)"
      ],
      "metadata": {
        "colab": {
          "base_uri": "https://localhost:8080/"
        },
        "id": "xx6sr_eLdtk8",
        "outputId": "f01a6d17-2b15-4dd6-c121-11583f32173e"
      },
      "execution_count": 31,
      "outputs": [
        {
          "output_type": "stream",
          "name": "stdout",
          "text": [
            "+-----+----------+-----------------+\n",
            "| year|population|unemployment_rate|\n",
            "+-----+----------+-----------------+\n",
            "|Units|      000s|                %|\n",
            "+-----+----------+-----------------+\n",
            "\n"
          ]
        }
      ]
    },
    {
      "cell_type": "code",
      "source": [
        "(data.count(), len(data.columns))"
      ],
      "metadata": {
        "colab": {
          "base_uri": "https://localhost:8080/"
        },
        "id": "mYDe3eDedvzH",
        "outputId": "3b055657-96c1-4bf8-e12c-d4d7a171676e"
      },
      "execution_count": 32,
      "outputs": [
        {
          "output_type": "execute_result",
          "data": {
            "text/plain": [
              "(841, 3)"
            ]
          },
          "metadata": {},
          "execution_count": 32
        }
      ]
    },
    {
      "cell_type": "code",
      "source": [
        "(data_description.count(), len(data_description.columns))"
      ],
      "metadata": {
        "colab": {
          "base_uri": "https://localhost:8080/"
        },
        "id": "wwwmrO7Qd1wl",
        "outputId": "3455181a-42f1-4d91-fbd9-a30b5cf7cb24"
      },
      "execution_count": 33,
      "outputs": [
        {
          "output_type": "execute_result",
          "data": {
            "text/plain": [
              "(1, 3)"
            ]
          },
          "metadata": {},
          "execution_count": 33
        }
      ]
    },
    {
      "cell_type": "code",
      "source": [
        "from pyspark.sql.functions import broadcast\n",
        "\n",
        "data = data.join( other=broadcast(data_description) , on=['year'], how='left_anti' )"
      ],
      "metadata": {
        "id": "Xn5wF1ftd8OM"
      },
      "execution_count": 34,
      "outputs": []
    },
    {
      "cell_type": "code",
      "source": [
        "data.show(n=10)"
      ],
      "metadata": {
        "colab": {
          "base_uri": "https://localhost:8080/"
        },
        "id": "-2bKfXCagSwQ",
        "outputId": "e1d9778f-1985-49a0-e210-86e914af651c"
      },
      "execution_count": 35,
      "outputs": [
        {
          "output_type": "stream",
          "name": "stdout",
          "text": [
            "+----+----------+-----------------+\n",
            "|year|population|unemployment_rate|\n",
            "+----+----------+-----------------+\n",
            "|1209|      null|             null|\n",
            "|1210|      null|             null|\n",
            "|1211|      null|             null|\n",
            "|1212|      null|             null|\n",
            "|1213|      null|             null|\n",
            "|1214|      null|             null|\n",
            "|1215|      null|             null|\n",
            "|1216|      null|             null|\n",
            "|1217|      null|             null|\n",
            "|1218|      null|             null|\n",
            "+----+----------+-----------------+\n",
            "only showing top 10 rows\n",
            "\n"
          ]
        }
      ]
    },
    {
      "cell_type": "code",
      "source": [
        "data = data.dropna()"
      ],
      "metadata": {
        "id": "YWQNINYbgVca"
      },
      "execution_count": 36,
      "outputs": []
    },
    {
      "cell_type": "code",
      "source": [
        "data.show(n=10)"
      ],
      "metadata": {
        "colab": {
          "base_uri": "https://localhost:8080/"
        },
        "id": "R2WP8KA0gZCW",
        "outputId": "93987647-68f4-482e-907f-98c85c199e93"
      },
      "execution_count": 37,
      "outputs": [
        {
          "output_type": "stream",
          "name": "stdout",
          "text": [
            "+----+----------+-----------------+\n",
            "|year|population|unemployment_rate|\n",
            "+----+----------+-----------------+\n",
            "|1855|     23241|             3.73|\n",
            "|1856|     23466|             3.52|\n",
            "|1857|     23689|             3.95|\n",
            "|1858|     23914|             5.23|\n",
            "|1859|     24138|             3.27|\n",
            "|1860|     24360|             2.94|\n",
            "|1861|     24585|             3.72|\n",
            "|1862|     24862|             4.68|\n",
            "|1863|     25142|             4.15|\n",
            "|1864|     25425|             2.99|\n",
            "+----+----------+-----------------+\n",
            "only showing top 10 rows\n",
            "\n"
          ]
        }
      ]
    },
    {
      "cell_type": "code",
      "source": [
        "data = data.withColumn( 'century', 1 + (data['year']/100).cast('int') )"
      ],
      "metadata": {
        "id": "mzUFLlXugiP6"
      },
      "execution_count": 38,
      "outputs": []
    },
    {
      "cell_type": "code",
      "source": [
        "data.select(['century', 'year']). groupBy('century').agg({'year': 'count'}).show()"
      ],
      "metadata": {
        "colab": {
          "base_uri": "https://localhost:8080/"
        },
        "id": "3fJGpWnKgkIU",
        "outputId": "0b4c2f01-0ccb-4459-ef6c-f9bf925cda51"
      },
      "execution_count": 39,
      "outputs": [
        {
          "output_type": "stream",
          "name": "stdout",
          "text": [
            "+-------+-----------+\n",
            "|century|count(year)|\n",
            "+-------+-----------+\n",
            "|     20|        100|\n",
            "|     19|         45|\n",
            "|     21|         17|\n",
            "+-------+-----------+\n",
            "\n"
          ]
        }
      ]
    },
    {
      "cell_type": "code",
      "source": [
        "timing = data.select(['century', 'year']).groupBy('century').agg({'year': 'count'}).collect()"
      ],
      "metadata": {
        "id": "o0cHoFQGhMse"
      },
      "execution_count": 40,
      "outputs": []
    },
    {
      "cell_type": "code",
      "source": [
        "timing"
      ],
      "metadata": {
        "colab": {
          "base_uri": "https://localhost:8080/"
        },
        "id": "P8rxEqDrhQ72",
        "outputId": "226e936b-76e6-400f-dfc2-e6747def7b76"
      },
      "execution_count": 41,
      "outputs": [
        {
          "output_type": "execute_result",
          "data": {
            "text/plain": [
              "[Row(century=20, count(year)=100),\n",
              " Row(century=19, count(year)=45),\n",
              " Row(century=21, count(year)=17)]"
            ]
          },
          "metadata": {},
          "execution_count": 41
        }
      ]
    },
    {
      "cell_type": "code",
      "source": [
        "timing[0].asDict()"
      ],
      "metadata": {
        "colab": {
          "base_uri": "https://localhost:8080/"
        },
        "id": "fxLL1ceLhU2u",
        "outputId": "471508df-d4e7-4547-deb7-79798b21b638"
      },
      "execution_count": 42,
      "outputs": [
        {
          "output_type": "execute_result",
          "data": {
            "text/plain": [
              "{'century': 20, 'count(year)': 100}"
            ]
          },
          "metadata": {},
          "execution_count": 42
        }
      ]
    },
    {
      "cell_type": "code",
      "source": [
        "data.repartition('century').write.csv( path=\"uk-macroeconomic-data-clean\", sep=\",\", header=True, mode=\"overwrite\" )\n"
      ],
      "metadata": {
        "id": "4mZKdDHIhZ_H"
      },
      "execution_count": 45,
      "outputs": []
    }
  ]
}